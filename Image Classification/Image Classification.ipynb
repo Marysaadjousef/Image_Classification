{
 "cells": [
  {
   "cell_type": "code",
   "execution_count": 2,
   "id": "71d95ac0",
   "metadata": {},
   "outputs": [],
   "source": [
    "import os\n",
    "import pandas as pd\n",
    "import numpy as np\n",
    "from PIL import Image\n",
    "from skimage.feature import hog\n",
    "from skimage.transform import resize\n",
    "from skimage import io, transform\n",
    "from skimage.color import rgb2gray\n",
    "\n",
    "import warnings\n",
    "warnings.filterwarnings(\"ignore\")"
   ]
  },
  {
   "cell_type": "code",
   "execution_count": 3,
   "id": "e4f21305",
   "metadata": {
    "scrolled": true
   },
   "outputs": [],
   "source": [
    "from skimage.io import imread\n",
    "\n",
    "x_train = []\n",
    "y_train = []\n",
    "# iterate over the subfolders in the train data folder\n",
    "for root, dirs, files in os.walk( r'/Users/Family/Downloads/Image Classification/dataset/train'):\n",
    "    # iterate over the files in each subfolder\n",
    "    for file_name in files:\n",
    "        # check if the file is a text file\n",
    "        if file_name.endswith('.jpg'):\n",
    "           file_path = os.path.join(root, file_name)\n",
    "           # read the image data\n",
    "           img = imread(file_path)\n",
    "           # resize the image\n",
    "           resized_img = resize(img, (128, 64))\n",
    "           # reshape the image to match the expected format of hog\n",
    "           hog_img = resized_img.reshape((resized_img.shape[0], resized_img.shape[1], -1))\n",
    "           # calculate the HOG features\n",
    "           #creating hog features \n",
    "           fd, hog_image = hog(hog_img, orientations=9, pixels_per_cell=(8, 8), \n",
    "                cells_per_block=(2, 2), visualize=True,multichannel=True)\n",
    "           x_train.append(fd)\n",
    "           y_train.append(root.split('\\\\')[-1])"
   ]
  },
  {
   "cell_type": "code",
   "execution_count": 4,
   "id": "08517283",
   "metadata": {},
   "outputs": [],
   "source": [
    "x_test = []\n",
    "y_test = []\n",
    "# iterate over the subfolders in the train data folder\n",
    "for root, dirs, files in os.walk( r'/Users/Family/Downloads/Image Classification/dataset/test'):\n",
    "    # iterate over the files in each subfolder\n",
    "    for file_name in files:\n",
    "        # check if the file is a text file\n",
    "        if file_name.endswith('.jpg'):\n",
    "           file_path = os.path.join(root, file_name)\n",
    "           # read the image data\n",
    "           img = imread(file_path)\n",
    "           # resize the image\n",
    "           resized_img = resize(img, (128, 64))\n",
    "           # reshape the image to match the expected format of hog\n",
    "           hog_img = resized_img.reshape((resized_img.shape[0], resized_img.shape[1], -1))\n",
    "           # calculate the HOG features\n",
    "           #creating hog features \n",
    "           fd, hog_image = hog(hog_img, orientations=9, pixels_per_cell=(8, 8), \n",
    "                cells_per_block=(2, 2), visualize=True,multichannel=True)\n",
    "           x_test.append(fd)\n",
    "           y_test.append(root.split('\\\\')[-1])\n"
   ]
  },
  {
   "cell_type": "code",
   "execution_count": 5,
   "id": "04ca55c4",
   "metadata": {},
   "outputs": [
    {
     "name": "stdout",
     "output_type": "stream",
     "text": [
      "Test accuracy of SVC: 0.8888888888888888\n"
     ]
    }
   ],
   "source": [
    "#Import svm model\n",
    "from sklearn import svm\n",
    "from sklearn.metrics import accuracy_score\n",
    "\n",
    "#Create a svm Classifier\n",
    "clf = svm.SVC(kernel='rbf') # Linear Kernel\n",
    "\n",
    "#Train the model using the training sets\n",
    "clf.fit(x_train, y_train)\n",
    "\n",
    "y_pred=clf.predict(x_test)\n",
    "\n",
    "# Evaluate model accuracy\n",
    "accuracy = accuracy_score(y_test, y_pred)\n",
    "print(f\"Test accuracy of SVC: {accuracy}\")"
   ]
  },
  {
   "cell_type": "code",
   "execution_count": 6,
   "id": "609c4dee",
   "metadata": {},
   "outputs": [
    {
     "name": "stdout",
     "output_type": "stream",
     "text": [
      "Test accuracy of Logistic Regression: 0.8888888888888888\n"
     ]
    }
   ],
   "source": [
    "from sklearn.linear_model import LogisticRegression\n",
    "\n",
    "best_model = LogisticRegression()\n",
    "best_model.fit(x_train, y_train)\n",
    "\n",
    "# Predict on test data\n",
    "y_pred = best_model.predict(x_test)\n",
    "\n",
    "# Evaluate model accuracy\n",
    "accuracy = accuracy_score(y_test, y_pred)\n",
    "print(f\"Test accuracy of Logistic Regression: {accuracy}\")"
   ]
  }
 ],
 "metadata": {
  "kernelspec": {
   "display_name": "Python 3 (ipykernel)",
   "language": "python",
   "name": "python3"
  },
  "language_info": {
   "codemirror_mode": {
    "name": "ipython",
    "version": 3
   },
   "file_extension": ".py",
   "mimetype": "text/x-python",
   "name": "python",
   "nbconvert_exporter": "python",
   "pygments_lexer": "ipython3",
   "version": "3.9.12"
  }
 },
 "nbformat": 4,
 "nbformat_minor": 5
}
